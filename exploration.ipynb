{
 "cells": [
  {
   "cell_type": "markdown",
   "id": "d9c48f40-5a96-40d2-82a9-3d369a34c904",
   "metadata": {},
   "source": [
    "# Predicting BTC price with LSTM NN model\n",
    "We will explore predicing BTC price using an LSTM NN model. LSTM models are a specific instance of RNN, or Recurrent Neural Network. LSTMs are interesting because they carry state from previous timestamps into the prediction of a future value. So, for example, a chain of inputs from t0 - t9 can be input to predict the value at t10.\n",
    "\n",
    "#### The Data\n",
    "First, we will import the data from kaggle."
   ]
  },
  {
   "cell_type": "code",
   "execution_count": 1,
   "id": "9305eb0d-bbb3-4388-914b-a324f9c4ae21",
   "metadata": {},
   "outputs": [
    {
     "name": "stdout",
     "output_type": "stream",
     "text": [
      "      Timestamp  Open  High   Low  Close  Volume\n",
      "0  1.325412e+09  4.58  4.58  4.58   4.58     0.0\n",
      "1  1.325412e+09  4.58  4.58  4.58   4.58     0.0\n",
      "2  1.325412e+09  4.58  4.58  4.58   4.58     0.0\n",
      "3  1.325412e+09  4.58  4.58  4.58   4.58     0.0\n",
      "4  1.325412e+09  4.58  4.58  4.58   4.58     0.0\n"
     ]
    }
   ],
   "source": [
    "import pandas as pd\n",
    "\n",
    "dir_path = \"/home/agiles/.cache/kagglehub/datasets/mczielinski/bitcoin-historical-data/versions/71\"\n",
    "latest_file = \"btcusd_1-min_data.csv\"\n",
    "df = pd.read_csv(dir_path + \"/\" + latest_file)\n",
    "\n",
    "print(df.head())"
   ]
  },
  {
   "cell_type": "code",
   "execution_count": 2,
   "id": "f5c1a167-44e2-4ad9-8720-42c4e334e664",
   "metadata": {},
   "outputs": [],
   "source": [
    "from datetime import datetime\n",
    "sanitized_df = df[df['Timestamp'].notna()]\n",
    "sanitized_df = sanitized_df[sanitized_df['Volume'] != 0]"
   ]
  },
  {
   "cell_type": "markdown",
   "id": "bf21422b-d9ff-4c6a-9001-4c321b1a565c",
   "metadata": {},
   "source": [
    "Notice the timestamp field isn't very useful to us. We will add a datetime field that is more human-readable."
   ]
  },
  {
   "cell_type": "code",
   "execution_count": 4,
   "id": "a0690894-dbe0-4e44-8926-465491eba47a",
   "metadata": {},
   "outputs": [
    {
     "data": {
      "text/plain": [
       "datetime.datetime(2024, 11, 13, 19, 0)"
      ]
     },
     "execution_count": 4,
     "metadata": {},
     "output_type": "execute_result"
    }
   ],
   "source": [
    "datetime.fromtimestamp(sanitized_df[\"Timestamp\"][col_len - 1])"
   ]
  },
  {
   "cell_type": "markdown",
   "id": "c995b9f5-6d3b-4e02-90a1-a13aebacbc42",
   "metadata": {},
   "source": [
    "Okay, that works. Let's apply the `datetime.fromtimestamp` function to all `Timestamp`s:"
   ]
  },
  {
   "cell_type": "code",
   "execution_count": 3,
   "id": "92f8a936-9ac3-4a28-bb4e-93c8f1405ecf",
   "metadata": {},
   "outputs": [],
   "source": [
    "sanitized_df['Datetime'] = sanitized_df['Timestamp'].apply(datetime.fromtimestamp)"
   ]
  },
  {
   "cell_type": "markdown",
   "id": "d108bbba-cd65-46e4-b2e9-959526f92213",
   "metadata": {},
   "source": [
    "Let's check it out!"
   ]
  },
  {
   "cell_type": "code",
   "execution_count": 43,
   "id": "89ddc8b9-fd41-4e97-b1d0-bffc5f922e3f",
   "metadata": {},
   "outputs": [
    {
     "name": "stdout",
     "output_type": "stream",
     "text": [
      "         Timestamp  Open  High   Low  Close     Volume            Datetime\n",
      "627   1.325450e+09  4.84  4.84  4.84   4.84  10.000000 2012-01-01 15:28:00\n",
      "1064  1.325476e+09  5.00  5.00  5.00   5.00  10.100000 2012-01-01 22:45:00\n",
      "2343  1.325553e+09  5.00  5.00  5.00   5.00  19.048000 2012-01-02 20:04:00\n",
      "3284  1.325609e+09  5.32  5.32  5.32   5.32   2.419173 2012-01-03 11:45:00\n",
      "3441  1.325619e+09  5.14  5.14  5.14   5.14   0.680000 2012-01-03 14:22:00\n"
     ]
    }
   ],
   "source": [
    "print(sanitized_df.head())"
   ]
  },
  {
   "cell_type": "code",
   "execution_count": 7,
   "id": "a21d5e3e-791c-40ee-8ae9-0d37d4b28dd4",
   "metadata": {},
   "outputs": [
    {
     "data": {
      "text/plain": [
       "0              4.58\n",
       "1              4.58\n",
       "2              4.58\n",
       "3              4.58\n",
       "4              4.58\n",
       "             ...   \n",
       "6713275    90487.00\n",
       "6713276    90475.00\n",
       "6713277    90517.00\n",
       "6713278    90567.00\n",
       "6713279    90498.00\n",
       "Name: Open, Length: 6713280, dtype: float64"
      ]
     },
     "execution_count": 7,
     "metadata": {},
     "output_type": "execute_result"
    }
   ],
   "source": [
    "sanitized_df['Open']"
   ]
  },
  {
   "cell_type": "code",
   "execution_count": 174,
   "id": "d4d0145b-31ec-4e31-b17f-986a70c7fcdc",
   "metadata": {},
   "outputs": [],
   "source": [
    "import matplotlib.pyplot as plt"
   ]
  },
  {
   "cell_type": "code",
   "execution_count": 9,
   "id": "e0986e80-2b53-4298-b1a4-0531a97bf4a8",
   "metadata": {},
   "outputs": [],
   "source": [
    "%%script false --no-raise-error\n",
    "#no_ts_df = sanitized_df.drop('Timestamp', axis=1)\n",
    "sanitized_df.plot(kind=\"line\", x=\"Datetime\", y=\"Close\", grid=True, label=\"BTC Close\")\n",
    "plt.show()"
   ]
  },
  {
   "cell_type": "code",
   "execution_count": 10,
   "id": "f5de9d3d-8be2-4211-950b-d8e187b4c849",
   "metadata": {},
   "outputs": [],
   "source": [
    "%%script false --no-raise-error\n",
    "sanitized_df.plot(kind=\"line\", x=\"Datetime\", y=\"High\", grid=True, label=\"BTC High\")\n",
    "plt.show()"
   ]
  },
  {
   "cell_type": "code",
   "execution_count": 4,
   "id": "fdc379e4-9727-4a53-af99-17cd4e268571",
   "metadata": {},
   "outputs": [],
   "source": [
    "sanitized_df['Avg'] = (sanitized_df['High'] + sanitized_df['Low']) / 2"
   ]
  },
  {
   "cell_type": "code",
   "execution_count": 11,
   "id": "0dfd62ec-d49c-4b32-afa9-19e64a8683c8",
   "metadata": {},
   "outputs": [
    {
     "name": "stderr",
     "output_type": "stream",
     "text": [
      "/tmp/ipykernel_6828/4113907236.py:1: SettingWithCopyWarning: \n",
      "A value is trying to be set on a copy of a slice from a DataFrame.\n",
      "Try using .loc[row_indexer,col_indexer] = value instead\n",
      "\n",
      "See the caveats in the documentation: https://pandas.pydata.org/pandas-docs/stable/user_guide/indexing.html#returning-a-view-versus-a-copy\n",
      "  sanitized_df['Avg'] = (sanitized_df['High'] + sanitized_df['Low']) / 2\n"
     ]
    },
    {
     "data": {
      "text/plain": [
       "<Axes: xlabel='Datetime'>"
      ]
     },
     "execution_count": 11,
     "metadata": {},
     "output_type": "execute_result"
    },
    {
     "data": {
      "image/png": "[encoded data removed]",
      "text/plain": [
       "<Figure size 640x480 with 1 Axes>"
      ]
     },
     "metadata": {},
     "output_type": "display_data"
    }
   ],
   "source": [
    "sanitized_df.plot(kind=\"line\", x=\"Datetime\", y=\"Avg\", grid=True, label=\"BTC Avg\")"
   ]
  },
  {
   "cell_type": "code",
   "execution_count": 5,
   "id": "1a47806c-b486-4854-b008-bf3c2845ae1b",
   "metadata": {},
   "outputs": [],
   "source": [
    "df_len = len(sanitized_df)\n",
    "last_couple_years = sanitized_df.tail(int(0.2 * df_len))"
   ]
  },
  {
   "cell_type": "code",
   "execution_count": null,
   "id": "c081cb6a-f9a6-42b1-8ff4-f6d5a2b2f4e5",
   "metadata": {},
   "outputs": [],
   "source": [
    "last_couple_years.plot(kind=\"line\", x=\"Datetime\", y=\"Avg\", grid=True, label=\"BTC Avg\")"
   ]
  },
  {
   "cell_type": "code",
   "execution_count": 8,
   "id": "10206b61-b9f3-4d18-b2b8-4293e8ef3951",
   "metadata": {},
   "outputs": [],
   "source": [
    "%%script false --no-raise-error\n",
    "fig, ax = plt.subplots()\n",
    "for name in ['Avg', 'High', 'Low', 'Open', 'Close', 'Volume']:\n",
    "    ax.plot(last_couple_years['Datetime'], last_couple_years[name], label=name)\n",
    "\n",
    "ax.set_xlabel('Datetime')\n",
    "ax.set_ylabel('$')\n",
    "ax.legend(loc='best')\n",
    "plt.show()"
   ]
  },
  {
   "cell_type": "code",
   "execution_count": 6,
   "id": "4bf83e48-34bd-42ac-a0e1-50d25350ee2a",
   "metadata": {},
   "outputs": [
    {
     "data": {
      "text/plain": [
       "5370624    0.000000\n",
       "5370625    0.002070\n",
       "5370626    0.031820\n",
       "5370627    0.013670\n",
       "5370628    0.017537\n",
       "             ...   \n",
       "6713275    0.016974\n",
       "6713276    0.243731\n",
       "6713277    1.960700\n",
       "6713278    0.159562\n",
       "6713279    0.120893\n",
       "Name: Volume, Length: 1342656, dtype: float64"
      ]
     },
     "execution_count": 6,
     "metadata": {},
     "output_type": "execute_result"
    }
   ],
   "source": [
    "# %%script false --no-raise-error\n",
    "last_couple_years['Volume']"
   ]
  },
  {
   "cell_type": "code",
   "execution_count": 63,
   "id": "9fb39bdd-0d81-4c5a-8067-2b1cea901aab",
   "metadata": {},
   "outputs": [
    {
     "data": {
      "text/html": [
       "<div>\n",
       "<style scoped>\n",
       "    .dataframe tbody tr th:only-of-type {\n",
       "        vertical-align: middle;\n",
       "    }\n",
       "\n",
       "    .dataframe tbody tr th {\n",
       "        vertical-align: top;\n",
       "    }\n",
       "\n",
       "    .dataframe thead th {\n",
       "        text-align: right;\n",
       "    }\n",
       "</style>\n",
       "<table border=\"1\" class=\"dataframe\">\n",
       "  <thead>\n",
       "    <tr style=\"text-align: right;\">\n",
       "      <th></th>\n",
       "      <th>Timestamp</th>\n",
       "      <th>Open</th>\n",
       "      <th>High</th>\n",
       "      <th>Low</th>\n",
       "      <th>Close</th>\n",
       "      <th>Volume</th>\n",
       "      <th>Datetime</th>\n",
       "      <th>Avg</th>\n",
       "    </tr>\n",
       "  </thead>\n",
       "  <tbody>\n",
       "    <tr>\n",
       "      <th>6713275</th>\n",
       "      <td>1.731542e+09</td>\n",
       "      <td>90487.0</td>\n",
       "      <td>90519.0</td>\n",
       "      <td>90487.0</td>\n",
       "      <td>90508.0</td>\n",
       "      <td>0.016974</td>\n",
       "      <td>2024-11-13 18:56:00</td>\n",
       "      <td>90503.0</td>\n",
       "    </tr>\n",
       "    <tr>\n",
       "      <th>6713276</th>\n",
       "      <td>1.731542e+09</td>\n",
       "      <td>90475.0</td>\n",
       "      <td>90528.0</td>\n",
       "      <td>90475.0</td>\n",
       "      <td>90515.0</td>\n",
       "      <td>0.243731</td>\n",
       "      <td>2024-11-13 18:57:00</td>\n",
       "      <td>90501.5</td>\n",
       "    </tr>\n",
       "    <tr>\n",
       "      <th>6713277</th>\n",
       "      <td>1.731542e+09</td>\n",
       "      <td>90517.0</td>\n",
       "      <td>90620.0</td>\n",
       "      <td>90512.0</td>\n",
       "      <td>90589.0</td>\n",
       "      <td>1.960700</td>\n",
       "      <td>2024-11-13 18:58:00</td>\n",
       "      <td>90566.0</td>\n",
       "    </tr>\n",
       "    <tr>\n",
       "      <th>6713278</th>\n",
       "      <td>1.731542e+09</td>\n",
       "      <td>90567.0</td>\n",
       "      <td>90567.0</td>\n",
       "      <td>90521.0</td>\n",
       "      <td>90521.0</td>\n",
       "      <td>0.159562</td>\n",
       "      <td>2024-11-13 18:59:00</td>\n",
       "      <td>90544.0</td>\n",
       "    </tr>\n",
       "    <tr>\n",
       "      <th>6713279</th>\n",
       "      <td>1.731542e+09</td>\n",
       "      <td>90498.0</td>\n",
       "      <td>90626.0</td>\n",
       "      <td>90498.0</td>\n",
       "      <td>90566.0</td>\n",
       "      <td>0.120893</td>\n",
       "      <td>2024-11-13 19:00:00</td>\n",
       "      <td>90562.0</td>\n",
       "    </tr>\n",
       "  </tbody>\n",
       "</table>\n",
       "</div>"
      ],
      "text/plain": [
       "            Timestamp     Open     High      Low    Close    Volume  \\\n",
       "6713275  1.731542e+09  90487.0  90519.0  90487.0  90508.0  0.016974   \n",
       "6713276  1.731542e+09  90475.0  90528.0  90475.0  90515.0  0.243731   \n",
       "6713277  1.731542e+09  90517.0  90620.0  90512.0  90589.0  1.960700   \n",
       "6713278  1.731542e+09  90567.0  90567.0  90521.0  90521.0  0.159562   \n",
       "6713279  1.731542e+09  90498.0  90626.0  90498.0  90566.0  0.120893   \n",
       "\n",
       "                   Datetime      Avg  \n",
       "6713275 2024-11-13 18:56:00  90503.0  \n",
       "6713276 2024-11-13 18:57:00  90501.5  \n",
       "6713277 2024-11-13 18:58:00  90566.0  \n",
       "6713278 2024-11-13 18:59:00  90544.0  \n",
       "6713279 2024-11-13 19:00:00  90562.0  "
      ]
     },
     "execution_count": 63,
     "metadata": {},
     "output_type": "execute_result"
    }
   ],
   "source": [
    "last_couple_years.tail()"
   ]
  },
  {
   "cell_type": "code",
   "execution_count": 185,
   "id": "231c495f-82ef-4a11-8838-32e4e9f1d66d",
   "metadata": {},
   "outputs": [
    {
     "data": {
      "text/html": [
       "<div>\n",
       "<style scoped>\n",
       "    .dataframe tbody tr th:only-of-type {\n",
       "        vertical-align: middle;\n",
       "    }\n",
       "\n",
       "    .dataframe tbody tr th {\n",
       "        vertical-align: top;\n",
       "    }\n",
       "\n",
       "    .dataframe thead th {\n",
       "        text-align: right;\n",
       "    }\n",
       "</style>\n",
       "<table border=\"1\" class=\"dataframe\">\n",
       "  <thead>\n",
       "    <tr style=\"text-align: right;\">\n",
       "      <th></th>\n",
       "      <th>Timestamp</th>\n",
       "      <th>Open</th>\n",
       "      <th>High</th>\n",
       "      <th>Low</th>\n",
       "      <th>Close</th>\n",
       "      <th>Volume</th>\n",
       "      <th>Datetime</th>\n",
       "      <th>Avg</th>\n",
       "    </tr>\n",
       "  </thead>\n",
       "  <tbody>\n",
       "    <tr>\n",
       "      <th>5594826</th>\n",
       "      <td>1.661138e+09</td>\n",
       "      <td>21618.0</td>\n",
       "      <td>21632.0</td>\n",
       "      <td>21618.0</td>\n",
       "      <td>21632.0</td>\n",
       "      <td>0.022031</td>\n",
       "      <td>2022-08-21 23:07:00</td>\n",
       "      <td>21625.0</td>\n",
       "    </tr>\n",
       "    <tr>\n",
       "      <th>5594827</th>\n",
       "      <td>1.661138e+09</td>\n",
       "      <td>21643.0</td>\n",
       "      <td>21643.0</td>\n",
       "      <td>21627.0</td>\n",
       "      <td>21627.0</td>\n",
       "      <td>0.748464</td>\n",
       "      <td>2022-08-21 23:08:00</td>\n",
       "      <td>21635.0</td>\n",
       "    </tr>\n",
       "    <tr>\n",
       "      <th>5594828</th>\n",
       "      <td>1.661138e+09</td>\n",
       "      <td>21632.0</td>\n",
       "      <td>21644.0</td>\n",
       "      <td>21632.0</td>\n",
       "      <td>21632.0</td>\n",
       "      <td>0.022800</td>\n",
       "      <td>2022-08-21 23:09:00</td>\n",
       "      <td>21638.0</td>\n",
       "    </tr>\n",
       "    <tr>\n",
       "      <th>5594829</th>\n",
       "      <td>1.661138e+09</td>\n",
       "      <td>21638.0</td>\n",
       "      <td>21638.0</td>\n",
       "      <td>21638.0</td>\n",
       "      <td>21638.0</td>\n",
       "      <td>0.016510</td>\n",
       "      <td>2022-08-21 23:10:00</td>\n",
       "      <td>21638.0</td>\n",
       "    </tr>\n",
       "    <tr>\n",
       "      <th>5594830</th>\n",
       "      <td>1.661138e+09</td>\n",
       "      <td>21642.0</td>\n",
       "      <td>21642.0</td>\n",
       "      <td>21625.0</td>\n",
       "      <td>21625.0</td>\n",
       "      <td>0.959535</td>\n",
       "      <td>2022-08-21 23:11:00</td>\n",
       "      <td>21633.5</td>\n",
       "    </tr>\n",
       "  </tbody>\n",
       "</table>\n",
       "</div>"
      ],
      "text/plain": [
       "            Timestamp     Open     High      Low    Close    Volume  \\\n",
       "5594826  1.661138e+09  21618.0  21632.0  21618.0  21632.0  0.022031   \n",
       "5594827  1.661138e+09  21643.0  21643.0  21627.0  21627.0  0.748464   \n",
       "5594828  1.661138e+09  21632.0  21644.0  21632.0  21632.0  0.022800   \n",
       "5594829  1.661138e+09  21638.0  21638.0  21638.0  21638.0  0.016510   \n",
       "5594830  1.661138e+09  21642.0  21642.0  21625.0  21625.0  0.959535   \n",
       "\n",
       "                   Datetime      Avg  \n",
       "5594826 2022-08-21 23:07:00  21625.0  \n",
       "5594827 2022-08-21 23:08:00  21635.0  \n",
       "5594828 2022-08-21 23:09:00  21638.0  \n",
       "5594829 2022-08-21 23:10:00  21638.0  \n",
       "5594830 2022-08-21 23:11:00  21633.5  "
      ]
     },
     "execution_count": 185,
     "metadata": {},
     "output_type": "execute_result"
    }
   ],
   "source": [
    "primed_data = last_couple_years.copy()\n",
    "primed_data.head()"
   ]
  },
  {
   "cell_type": "code",
   "execution_count": 186,
   "id": "b0020cd7-fa6a-40ed-a3bc-05ef0a343c23",
   "metadata": {},
   "outputs": [
    {
     "data": {
      "text/plain": [
       "Timedelta('0 days 12:53:00')"
      ]
     },
     "execution_count": 186,
     "metadata": {},
     "output_type": "execute_result"
    }
   ],
   "source": [
    "datetime_col.iloc[1] - datetime_col.iloc[0]\n",
    "## Outputs diff of 1 minute, i.e. minutely data"
   ]
  },
  {
   "cell_type": "markdown",
   "id": "1c1faeeb-15e5-4fb2-bc54-3bade5cd4f7d",
   "metadata": {},
   "source": [
    "Let's now aggregates all of our data into a new set that is grouped by half day"
   ]
  },
  {
   "cell_type": "code",
   "execution_count": 187,
   "id": "1bca2e61-ef4b-4a06-ad7b-19e8293bd2cf",
   "metadata": {},
   "outputs": [
    {
     "name": "stderr",
     "output_type": "stream",
     "text": [
      "/tmp/ipykernel_96/1847439670.py:5: FutureWarning: A grouping was used that is not in the columns of the DataFrame and so was excluded from the result. This grouping will be included in a future version of pandas. Add the grouping as a column of the DataFrame to silence this warning.\n",
      "  aggregated_data['High'] = primed_data.groupby([primed_data['Datetime'].dt.year, primed_data['Datetime'].dt.month, primed_data['Datetime'].dt.day, primed_data['Datetime'].dt.hour < 12], as_index=False)['High'].max()\n",
      "/tmp/ipykernel_96/1847439670.py:6: FutureWarning: A grouping was used that is not in the columns of the DataFrame and so was excluded from the result. This grouping will be included in a future version of pandas. Add the grouping as a column of the DataFrame to silence this warning.\n",
      "  aggregated_data['Low'] = primed_data.groupby([primed_data['Datetime'].dt.year, primed_data['Datetime'].dt.month, primed_data['Datetime'].dt.day, primed_data['Datetime'].dt.hour < 12], as_index=False)['Low'].min()\n",
      "/tmp/ipykernel_96/1847439670.py:7: FutureWarning: A grouping was used that is not in the columns of the DataFrame and so was excluded from the result. This grouping will be included in a future version of pandas. Add the grouping as a column of the DataFrame to silence this warning.\n",
      "  aggregated_data['Avg'] = primed_data.groupby([primed_data['Datetime'].dt.year, primed_data['Datetime'].dt.month, primed_data['Datetime'].dt.day, primed_data['Datetime'].dt.hour < 12], as_index=False)['Avg'].mean()\n",
      "/tmp/ipykernel_96/1847439670.py:8: FutureWarning: A grouping was used that is not in the columns of the DataFrame and so was excluded from the result. This grouping will be included in a future version of pandas. Add the grouping as a column of the DataFrame to silence this warning.\n",
      "  aggregated_data['Open'] = primed_data.groupby([primed_data['Datetime'].dt.year, primed_data['Datetime'].dt.month, primed_data['Datetime'].dt.day, primed_data['Datetime'].dt.hour < 12], as_index=False)['Open'].first()\n",
      "/tmp/ipykernel_96/1847439670.py:9: FutureWarning: A grouping was used that is not in the columns of the DataFrame and so was excluded from the result. This grouping will be included in a future version of pandas. Add the grouping as a column of the DataFrame to silence this warning.\n",
      "  aggregated_data['Close'] = primed_data.groupby([primed_data['Datetime'].dt.year, primed_data['Datetime'].dt.month, primed_data['Datetime'].dt.day, primed_data['Datetime'].dt.hour < 12], as_index=False)['Close'].last()\n",
      "/tmp/ipykernel_96/1847439670.py:10: FutureWarning: A grouping was used that is not in the columns of the DataFrame and so was excluded from the result. This grouping will be included in a future version of pandas. Add the grouping as a column of the DataFrame to silence this warning.\n",
      "  aggregated_data['Volume'] = primed_data.groupby([primed_data['Datetime'].dt.year, primed_data['Datetime'].dt.month, primed_data['Datetime'].dt.day, primed_data['Datetime'].dt.hour < 12], as_index=False)['Volume'].sum()\n"
     ]
    }
   ],
   "source": [
    "primed_data.groupby([primed_data['Datetime'].dt.year, primed_data['Datetime'].dt.month, primed_data['Datetime'].dt.day])['High'].max()\n",
    "from pandas import DataFrame\n",
    "\n",
    "aggregated_data = DataFrame()\n",
    "aggregated_data['High'] = primed_data.groupby([primed_data['Datetime'].dt.year, primed_data['Datetime'].dt.month, primed_data['Datetime'].dt.day, primed_data['Datetime'].dt.hour < 12], as_index=False)['High'].max()\n",
    "aggregated_data['Low'] = primed_data.groupby([primed_data['Datetime'].dt.year, primed_data['Datetime'].dt.month, primed_data['Datetime'].dt.day, primed_data['Datetime'].dt.hour < 12], as_index=False)['Low'].min()\n",
    "aggregated_data['Avg'] = primed_data.groupby([primed_data['Datetime'].dt.year, primed_data['Datetime'].dt.month, primed_data['Datetime'].dt.day, primed_data['Datetime'].dt.hour < 12], as_index=False)['Avg'].mean()\n",
    "aggregated_data['Open'] = primed_data.groupby([primed_data['Datetime'].dt.year, primed_data['Datetime'].dt.month, primed_data['Datetime'].dt.day, primed_data['Datetime'].dt.hour < 12], as_index=False)['Open'].first()\n",
    "aggregated_data['Close'] = primed_data.groupby([primed_data['Datetime'].dt.year, primed_data['Datetime'].dt.month, primed_data['Datetime'].dt.day, primed_data['Datetime'].dt.hour < 12], as_index=False)['Close'].last()\n",
    "aggregated_data['Volume'] = primed_data.groupby([primed_data['Datetime'].dt.year, primed_data['Datetime'].dt.month, primed_data['Datetime'].dt.day, primed_data['Datetime'].dt.hour < 12], as_index=False)['Volume'].sum()\n",
    "aggregated_data['Datetime'] = primed_data.groupby([primed_data['Datetime'].dt.year, primed_data['Datetime'].dt.month, primed_data['Datetime'].dt.day, primed_data['Datetime'].dt.hour < 12], as_index=False)['Datetime'].min()\n",
    "primed_data = aggregated_data"
   ]
  },
  {
   "cell_type": "code",
   "execution_count": 188,
   "id": "3e122223-8654-4913-8cee-6a237ef0773f",
   "metadata": {},
   "outputs": [
    {
     "data": {
      "text/html": [
       "<div>\n",
       "<style scoped>\n",
       "    .dataframe tbody tr th:only-of-type {\n",
       "        vertical-align: middle;\n",
       "    }\n",
       "\n",
       "    .dataframe tbody tr th {\n",
       "        vertical-align: top;\n",
       "    }\n",
       "\n",
       "    .dataframe thead th {\n",
       "        text-align: right;\n",
       "    }\n",
       "</style>\n",
       "<table border=\"1\" class=\"dataframe\">\n",
       "  <thead>\n",
       "    <tr style=\"text-align: right;\">\n",
       "      <th></th>\n",
       "      <th>High</th>\n",
       "      <th>Low</th>\n",
       "      <th>Avg</th>\n",
       "      <th>Open</th>\n",
       "      <th>Close</th>\n",
       "      <th>Volume</th>\n",
       "      <th>Datetime</th>\n",
       "    </tr>\n",
       "  </thead>\n",
       "  <tbody>\n",
       "    <tr>\n",
       "      <th>0</th>\n",
       "      <td>21644.0</td>\n",
       "      <td>21509.0</td>\n",
       "      <td>21569.078431</td>\n",
       "      <td>21618.0</td>\n",
       "      <td>21514.0</td>\n",
       "      <td>26.991001</td>\n",
       "      <td>2022-08-21 23:07:00</td>\n",
       "    </tr>\n",
       "    <tr>\n",
       "      <th>1</th>\n",
       "      <td>21530.0</td>\n",
       "      <td>20968.0</td>\n",
       "      <td>21206.126056</td>\n",
       "      <td>21242.0</td>\n",
       "      <td>21411.0</td>\n",
       "      <td>722.107459</td>\n",
       "      <td>2022-08-22 12:00:00</td>\n",
       "    </tr>\n",
       "    <tr>\n",
       "      <th>2</th>\n",
       "      <td>21520.0</td>\n",
       "      <td>20901.0</td>\n",
       "      <td>21327.613304</td>\n",
       "      <td>21517.0</td>\n",
       "      <td>21248.0</td>\n",
       "      <td>706.882222</td>\n",
       "      <td>2022-08-22 00:00:00</td>\n",
       "    </tr>\n",
       "    <tr>\n",
       "      <th>3</th>\n",
       "      <td>21672.0</td>\n",
       "      <td>21331.0</td>\n",
       "      <td>21490.505634</td>\n",
       "      <td>21466.0</td>\n",
       "      <td>21520.0</td>\n",
       "      <td>503.991687</td>\n",
       "      <td>2022-08-23 12:00:00</td>\n",
       "    </tr>\n",
       "    <tr>\n",
       "      <th>4</th>\n",
       "      <td>21547.0</td>\n",
       "      <td>20899.0</td>\n",
       "      <td>21296.838450</td>\n",
       "      <td>21404.0</td>\n",
       "      <td>21451.0</td>\n",
       "      <td>733.163788</td>\n",
       "      <td>2022-08-23 00:00:00</td>\n",
       "    </tr>\n",
       "  </tbody>\n",
       "</table>\n",
       "</div>"
      ],
      "text/plain": [
       "      High      Low           Avg     Open    Close      Volume  \\\n",
       "0  21644.0  21509.0  21569.078431  21618.0  21514.0   26.991001   \n",
       "1  21530.0  20968.0  21206.126056  21242.0  21411.0  722.107459   \n",
       "2  21520.0  20901.0  21327.613304  21517.0  21248.0  706.882222   \n",
       "3  21672.0  21331.0  21490.505634  21466.0  21520.0  503.991687   \n",
       "4  21547.0  20899.0  21296.838450  21404.0  21451.0  733.163788   \n",
       "\n",
       "             Datetime  \n",
       "0 2022-08-21 23:07:00  \n",
       "1 2022-08-22 12:00:00  \n",
       "2 2022-08-22 00:00:00  \n",
       "3 2022-08-23 12:00:00  \n",
       "4 2022-08-23 00:00:00  "
      ]
     },
     "execution_count": 188,
     "metadata": {},
     "output_type": "execute_result"
    }
   ],
   "source": [
    "primed_data.head()"
   ]
  },
  {
   "cell_type": "code",
   "execution_count": 189,
   "id": "4bacbd4e-0db3-44b6-8341-76a817e0c9ab",
   "metadata": {},
   "outputs": [
    {
     "data": {
      "text/html": [
       "<div>\n",
       "<style scoped>\n",
       "    .dataframe tbody tr th:only-of-type {\n",
       "        vertical-align: middle;\n",
       "    }\n",
       "\n",
       "    .dataframe tbody tr th {\n",
       "        vertical-align: top;\n",
       "    }\n",
       "\n",
       "    .dataframe thead th {\n",
       "        text-align: right;\n",
       "    }\n",
       "</style>\n",
       "<table border=\"1\" class=\"dataframe\">\n",
       "  <thead>\n",
       "    <tr style=\"text-align: right;\">\n",
       "      <th></th>\n",
       "      <th>High</th>\n",
       "      <th>Low</th>\n",
       "      <th>Avg</th>\n",
       "      <th>Open</th>\n",
       "      <th>Close</th>\n",
       "      <th>Volume</th>\n",
       "      <th>Datetime</th>\n",
       "    </tr>\n",
       "  </thead>\n",
       "  <tbody>\n",
       "  </tbody>\n",
       "</table>\n",
       "</div>"
      ],
      "text/plain": [
       "Empty DataFrame\n",
       "Columns: [High, Low, Avg, Open, Close, Volume, Datetime]\n",
       "Index: []"
      ]
     },
     "execution_count": 189,
     "metadata": {},
     "output_type": "execute_result"
    }
   ],
   "source": [
    "primed_data[primed_data.isna().any(axis=1)]"
   ]
  },
  {
   "cell_type": "code",
   "execution_count": 191,
   "id": "920067f2-fd75-425d-8c96-74d101390122",
   "metadata": {},
   "outputs": [],
   "source": [
    "datetime_col = primed_data['Datetime']\n",
    "primed_data = primed_data.drop(\"Datetime\", axis=1)\n",
    "volume_col = primed_data['Volume']\n",
    "primed_data = primed_data.drop(\"Volume\", axis=1)\n"
   ]
  },
  {
   "cell_type": "code",
   "execution_count": 192,
   "id": "909233c5-44f3-449c-a36d-d36420358e86",
   "metadata": {},
   "outputs": [],
   "source": [
    "for col in primed_data.columns.tolist():\n",
    "    primed_data[f\"percent_change_{col}\"] = primed_data[col].pct_change()\n",
    "    primed_data = primed_data.drop(col, axis=1)\n",
    "# percent_change = {}\n",
    "# for col in primed_data.columns.tolist():\n",
    "#     percent_change[col] = [0]\n",
    "# for i in range(1, len(primed_data)):\n",
    "#     for col in primed_data.columns.tolist():\n",
    "#         percent_change[col].append(primed_data.iloc[i][col] / primed_data.iloc[i - 1][col] - 1) # percent change\n",
    "#         \n",
    "# for col in primed_data.columns.tolist():\n",
    "#     primed_data[f'percent_change_{col}'] = percent_change[col]\n",
    "#     primed_data = primed_data.drop(col, axis=1)"
   ]
  },
  {
   "cell_type": "code",
   "execution_count": 193,
   "id": "28596ca4-89f1-499d-ab3c-3352ec14b3da",
   "metadata": {},
   "outputs": [],
   "source": [
    "len(primed_data)\n",
    "primed_data['percent_change_High'][0:10]\n",
    "primed_data.iloc[0] = primed_data.iloc[0].fillna(0)"
   ]
  },
  {
   "cell_type": "code",
   "execution_count": 195,
   "id": "a098ff5d-5dd8-42de-9189-75eee734b002",
   "metadata": {},
   "outputs": [
    {
     "data": {
      "text/plain": [
       "0    0.000000\n",
       "1   -0.016827\n",
       "2    0.005729\n",
       "3    0.007638\n",
       "4   -0.009012\n",
       "5    0.014222\n",
       "6   -0.011678\n",
       "7    0.011861\n",
       "8    0.000218\n",
       "9   -0.034148\n",
       "Name: percent_change_Avg, dtype: float64"
      ]
     },
     "execution_count": 195,
     "metadata": {},
     "output_type": "execute_result"
    }
   ],
   "source": [
    "primed_data = primed_data[['percent_change_High', 'percent_change_Low', 'percent_change_Open', 'percent_change_Close', 'percent_change_Avg']]\n",
    "primed_data['percent_change_Avg'][0:10]"
   ]
  },
  {
   "cell_type": "code",
   "execution_count": 196,
   "id": "899f2595-ad5e-4641-a4f5-fcdb0e098d35",
   "metadata": {},
   "outputs": [],
   "source": [
    "timesteps = 20\n",
    "features = primed_data.shape[1] - 1"
   ]
  },
  {
   "cell_type": "code",
   "execution_count": 197,
   "id": "a4a6de3f-b5ca-40d4-923a-641dd4a0edfb",
   "metadata": {},
   "outputs": [
    {
     "name": "stdout",
     "output_type": "stream",
     "text": [
      "Processing 0th entry\n"
     ]
    }
   ],
   "source": [
    "import numpy as np\n",
    "dlen = len(primed_data) - timesteps\n",
    "X_shape = (dlen, timesteps, features)\n",
    "y_shape = (dlen)\n",
    "X, y = np.empty(X_shape), np.empty(y_shape)\n",
    "for i in range(dlen):\n",
    "    if i % 50000 == 0:\n",
    "        print(f\"Processing {i}th entry\")\n",
    "    for j in range(timesteps):\n",
    "        for k in range(features):\n",
    "            X[i,j,k] = primed_data.iloc[i + j, k]\n",
    "    # X[i] = primed_data.iloc[i:i+timesteps, :-1].values  # Select features\n",
    "    # y[i] = primed_data.iloc[i+timesteps, -1]           # Select corresponding\n",
    "    y[i] = primed_data.iloc[i+timesteps, -1]           # Select corresponding"
   ]
  },
  {
   "cell_type": "code",
   "execution_count": 172,
   "id": "24b3ad77-ae72-44f5-b2ab-2f3da738cdde",
   "metadata": {},
   "outputs": [
    {
     "data": {
      "text/plain": [
       "array([[ 0.00000000e+00,  0.00000000e+00,  0.00000000e+00,\n",
       "         0.00000000e+00,  0.00000000e+00],\n",
       "       [-5.26704860e-03, -2.51522618e-02, -1.73929133e-02,\n",
       "        -4.78758018e-03,  2.57536380e+01],\n",
       "       [-4.64468184e-04, -3.19534529e-03,  1.29460503e-02,\n",
       "        -7.61290925e-03, -2.10844465e-02],\n",
       "       [ 7.06319703e-03,  2.05731783e-02, -2.37021890e-03,\n",
       "         1.28012048e-02, -2.87021698e-01],\n",
       "       [-5.76781100e-03, -2.02522151e-02, -2.88828846e-03,\n",
       "        -3.20631970e-03,  4.54714050e-01],\n",
       "       [ 1.60115097e-02,  2.10536389e-02,  1.82208933e-03,\n",
       "        -3.68281199e-03,  4.02163996e-01],\n",
       "       [-1.56221451e-02, -9.23192277e-03,  3.73082125e-03,\n",
       "         3.41568407e-03, -2.24097586e-01],\n",
       "       [ 1.03944316e-02,  1.32437802e-02,  9.24592297e-03,\n",
       "         5.87549545e-03, -1.43923144e-01],\n",
       "       [ 1.79112703e-03, -4.80814116e-03, -1.64809870e-02,\n",
       "         6.90742200e-03, -3.37880363e-01],\n",
       "       [ 2.61312062e-03, -5.62878184e-02, -7.77008051e-03,\n",
       "        -6.76795580e-02,  5.70322605e+00],\n",
       "       [-1.18884316e-02,  4.97539639e-02,  1.66053401e-02,\n",
       "         4.65679012e-02, -8.51052582e-01],\n",
       "       [-6.31652013e-02, -6.41098485e-02, -6.21345708e-02,\n",
       "        -5.41688293e-02,  2.74638994e-01],\n",
       "       [ 6.47073351e-03,  9.05595467e-03,  1.53381822e-03,\n",
       "         8.48091793e-03,  2.99039109e-01],\n",
       "       [-1.06497841e-02, -2.10077714e-02, -1.04732734e-02,\n",
       "        -3.25500866e-02, -1.57216065e-01],\n",
       "       [-4.46450717e-04,  2.09976442e-02,  6.98951573e-04,\n",
       "         2.44925091e-02, -5.97709672e-01],\n",
       "       [ 1.31513648e-02, -6.67134831e-03, -1.09758531e-02,\n",
       "         1.32761030e-02,  2.02414942e+00],\n",
       "       [-2.31692383e-02, -1.24223602e-02, -1.27623083e-02,\n",
       "        -2.38892720e-02, -3.99564947e-01],\n",
       "       [ 2.53234380e-02, -2.55662934e-04,  4.27673599e-02,\n",
       "         1.00923450e-04,  2.51429486e+00],\n",
       "       [ 6.26008705e-03,  2.89484452e-02, -5.29204234e-03,\n",
       "         2.97694132e-02, -7.25133817e-01],\n",
       "       [-7.53341434e-03, -1.17804951e-02,  0.00000000e+00,\n",
       "        -1.71492969e-02,  2.64763038e+00]])"
      ]
     },
     "execution_count": 172,
     "metadata": {},
     "output_type": "execute_result"
    }
   ],
   "source": [
    "X[0]"
   ]
  },
  {
   "cell_type": "code",
   "execution_count": 199,
   "id": "18639823-fd7c-4e15-9b21-88df9b6a3c09",
   "metadata": {},
   "outputs": [],
   "source": [
    "np.save('btc_prepared_X', X)\n",
    "np.save('btc_prepared_y', y)"
   ]
  },
  {
   "cell_type": "code",
   "execution_count": 198,
   "id": "39601818-00e9-48f4-919f-959e19a09b53",
   "metadata": {},
   "outputs": [
    {
     "data": {
      "image/png": "[encoded data removed]",
      "text/plain": [
       "<Figure size 640x480 with 1 Axes>"
      ]
     },
     "metadata": {},
     "output_type": "display_data"
    },
    {
     "data": {
      "text/plain": [
       "-0.1944698122780315"
      ]
     },
     "execution_count": 198,
     "metadata": {},
     "output_type": "execute_result"
    }
   ],
   "source": [
    "data_to_plot = X[:, 0, :]\n",
    "for j in range(data_to_plot.shape[1]):\n",
    "    plt.plot(data_to_plot[:, j], label=f\"Feature {j}\")\n",
    "plt.show()\n",
    "np.min(X)"
   ]
  },
  {
   "cell_type": "code",
   "execution_count": 204,
   "id": "513716c9-0322-4f32-95d6-3b75ba7907fc",
   "metadata": {},
   "outputs": [
    {
     "data": {
      "text/plain": [
       "array([[ 0.        ,  0.        ,  0.        ,  0.        ],\n",
       "       [-0.00526705, -0.02515226, -0.01739291, -0.00478758],\n",
       "       [-0.00046447, -0.00319535,  0.01294605, -0.00761291],\n",
       "       [ 0.0070632 ,  0.02057318, -0.00237022,  0.0128012 ],\n",
       "       [-0.00576781, -0.02025222, -0.00288829, -0.00320632],\n",
       "       [ 0.01601151,  0.02105364,  0.00182209, -0.00368281],\n",
       "       [-0.01562215, -0.00923192,  0.00373082,  0.00341568],\n",
       "       [ 0.01039443,  0.01324378,  0.00924592,  0.0058755 ],\n",
       "       [ 0.00179113, -0.00480814, -0.01648099,  0.00690742],\n",
       "       [ 0.00261312, -0.05628782, -0.00777008, -0.06767956],\n",
       "       [-0.01188843,  0.04975396,  0.01660534,  0.0465679 ],\n",
       "       [-0.0631652 , -0.06410985, -0.06213457, -0.05416883],\n",
       "       [ 0.00647073,  0.00905595,  0.00153382,  0.00848092],\n",
       "       [-0.01064978, -0.02100777, -0.01047327, -0.03255009],\n",
       "       [-0.00044645,  0.02099764,  0.00069895,  0.02449251],\n",
       "       [ 0.01315136, -0.00667135, -0.01097585,  0.0132761 ],\n",
       "       [-0.02316924, -0.01242236, -0.01276231, -0.02388927],\n",
       "       [ 0.02532344, -0.00025566,  0.04276736,  0.00010092],\n",
       "       [ 0.00626009,  0.02894845, -0.00529204,  0.02976941],\n",
       "       [-0.00753341, -0.0117805 ,  0.        , -0.0171493 ]])"
      ]
     },
     "execution_count": 204,
     "metadata": {},
     "output_type": "execute_result"
    }
   ],
   "source": [
    "X[0]"
   ]
  },
  {
   "cell_type": "code",
   "execution_count": 203,
   "id": "d655b895-03b5-4a05-b666-26cc3aa694a9",
   "metadata": {},
   "outputs": [],
   "source": [
    "X = np.load('btc_prepared_X.npy')\n",
    "y = np.load('btc_prepared_y.npy')"
   ]
  },
  {
   "cell_type": "code",
   "execution_count": 205,
   "id": "43381ab2-2ede-4def-8d12-01a8a4fc1746",
   "metadata": {},
   "outputs": [
    {
     "name": "stdout",
     "output_type": "stream",
     "text": [
      "Train set: (931, 20, 4), (931,)\n",
      "Validation set: (311, 20, 4), (311,)\n",
      "Test set: (311, 20, 4), (311,)\n",
      "Train set max: 0.18962017976224987\n",
      "Train set min: -0.1944698122780315\n",
      "Validation set max: 0.18962017976224987\n",
      "Validation set min: -0.1944698122780315\n",
      "Test set max: 0.18962017976224987\n",
      "Test set min: -0.1944698122780315\n"
     ]
    }
   ],
   "source": [
    "from sklearn.model_selection import train_test_split\n",
    "import numpy as np\n",
    "\n",
    "# Split into training + validation and test sets (80% train/val, 20% test)\n",
    "X_train_val, X_test, y_train_val, y_test = train_test_split(X, y, test_size=0.2, random_state=42)\n",
    "\n",
    "# Further split training + validation into training and validation sets (e.g., 80% train, 20% val)\n",
    "X_train, X_val, y_train, y_val = train_test_split(X_train_val, y_train_val, test_size=0.25, random_state=42)  # 0.25 x 0.8 = 0.2\n",
    "\n",
    "# Check the sizes\n",
    "print(f\"Train set: {X_train.shape}, {y_train.shape}\")\n",
    "print(f\"Validation set: {X_val.shape}, {y_val.shape}\")\n",
    "print(f\"Test set: {X_test.shape}, {y_test.shape}\")\n",
    "\n",
    "# Print some basic stats\n",
    "print(f\"Train set max: {X_train.max()}\")\n",
    "print(f\"Train set min: {X_train.min()}\")\n",
    "print(f\"Validation set max: {X_val.max()}\")\n",
    "print(f\"Validation set min: {X_val.min()}\")\n",
    "print(f\"Test set max: {X_test.max()}\")\n",
    "print(f\"Test set min: {X_test.min()}\")"
   ]
  },
  {
   "cell_type": "code",
   "execution_count": 206,
   "id": "6e9be3b4-b636-4d07-9679-c5a826c1784e",
   "metadata": {},
   "outputs": [],
   "source": [
    "from sklearn.preprocessing import MinMaxScaler\n",
    "\n",
    "# Scalers for the training set (DO NOT include test/validation sets..that would leak data into the model)\n",
    "x_train_scaler = MinMaxScaler((-1, 1))\n",
    "y_train_scaler = MinMaxScaler((-1, 1))\n",
    "X_train_scaled = x_train_scaler.fit_transform(X_train.reshape(-1, X_train.shape[-1])).reshape(X_train.shape)\n",
    "y_train_scaled = y_train_scaler.fit_transform(y_train.reshape(-1, 1)).reshape(y_train.shape)\n",
    "\n",
    "# Scalers for test set\n",
    "x_test_scaler = MinMaxScaler((-1, 1))\n",
    "y_test_scaler = MinMaxScaler((-1, 1))\n",
    "X_test_scaled = x_test_scaler.fit_transform(X_test.reshape(-1, X_test.shape[-1])).reshape(X_test.shape)\n",
    "y_test_scaled = y_test_scaler.fit_transform(y_test.reshape(-1, 1)).reshape(y_test.shape)\n",
    "\n",
    "# Scalers for validation set\n",
    "x_val_scaler = MinMaxScaler((-1, 1))\n",
    "y_val_scaler = MinMaxScaler((-1, 1))\n",
    "X_val_scaled = x_val_scaler.fit_transform(X_val.reshape(-1, X_val.shape[-1])).reshape(X_val.shape)\n",
    "y_val_scaled = y_val_scaler.fit_transform(y_val.reshape(-1, 1)).reshape(y_val.shape)"
   ]
  },
  {
   "cell_type": "code",
   "execution_count": 207,
   "id": "51e694df-54ce-4b1a-947f-7d5fcc8987db",
   "metadata": {},
   "outputs": [],
   "source": [
    "import tensorflow as tf\n",
    "batch_size = 32\n",
    "dataset = tf.data.Dataset.from_tensor_slices((X_train_scaled, y_train_scaled))\n",
    "dataset = dataset.batch(batch_size).shuffle(buffer_size=100)"
   ]
  },
  {
   "cell_type": "code",
   "execution_count": 208,
   "id": "5b31a578-a705-4429-98d0-12cec2afa249",
   "metadata": {},
   "outputs": [
    {
     "data": {
      "text/plain": [
       "0.15792810647999755"
      ]
     },
     "execution_count": 208,
     "metadata": {},
     "output_type": "execute_result"
    }
   ],
   "source": [
    "y_train[-10:-1]\n",
    "np.min(y_train)\n",
    "np.max(y_train)"
   ]
  },
  {
   "cell_type": "code",
   "execution_count": 211,
   "id": "3863c3a8-11fb-42d9-80e7-1595fbef8022",
   "metadata": {},
   "outputs": [
    {
     "name": "stdout",
     "output_type": "stream",
     "text": [
      "Epoch 1/10\n",
      "\u001b[1m30/30\u001b[0m \u001b[32m━━━━━━━━━━━━━━━━━━━━\u001b[0m\u001b[37m\u001b[0m \u001b[1m1s\u001b[0m 9ms/step - loss: 0.0237   \n",
      "Epoch 2/10\n",
      "\u001b[1m30/30\u001b[0m \u001b[32m━━━━━━━━━━━━━━━━━━━━\u001b[0m\u001b[37m\u001b[0m \u001b[1m0s\u001b[0m 6ms/step - loss: 0.0250 \n",
      "Epoch 3/10\n",
      "\u001b[1m30/30\u001b[0m \u001b[32m━━━━━━━━━━━━━━━━━━━━\u001b[0m\u001b[37m\u001b[0m \u001b[1m0s\u001b[0m 6ms/step - loss: 0.0250 \n",
      "Epoch 4/10\n",
      "\u001b[1m30/30\u001b[0m \u001b[32m━━━━━━━━━━━━━━━━━━━━\u001b[0m\u001b[37m\u001b[0m \u001b[1m0s\u001b[0m 5ms/step - loss: 0.0275\n",
      "Epoch 5/10\n",
      "\u001b[1m30/30\u001b[0m \u001b[32m━━━━━━━━━━━━━━━━━━━━\u001b[0m\u001b[37m\u001b[0m \u001b[1m0s\u001b[0m 5ms/step - loss: 0.0266\n",
      "Epoch 6/10\n",
      "\u001b[1m30/30\u001b[0m \u001b[32m━━━━━━━━━━━━━━━━━━━━\u001b[0m\u001b[37m\u001b[0m \u001b[1m0s\u001b[0m 5ms/step - loss: 0.0244\n",
      "Epoch 7/10\n",
      "\u001b[1m30/30\u001b[0m \u001b[32m━━━━━━━━━━━━━━━━━━━━\u001b[0m\u001b[37m\u001b[0m \u001b[1m0s\u001b[0m 5ms/step - loss: 0.0291 \n",
      "Epoch 8/10\n",
      "\u001b[1m30/30\u001b[0m \u001b[32m━━━━━━━━━━━━━━━━━━━━\u001b[0m\u001b[37m\u001b[0m \u001b[1m0s\u001b[0m 5ms/step - loss: 0.0275\n",
      "Epoch 9/10\n",
      "\u001b[1m30/30\u001b[0m \u001b[32m━━━━━━━━━━━━━━━━━━━━\u001b[0m\u001b[37m\u001b[0m \u001b[1m0s\u001b[0m 5ms/step - loss: 0.0273 \n",
      "Epoch 10/10\n",
      "\u001b[1m30/30\u001b[0m \u001b[32m━━━━━━━━━━━━━━━━━━━━\u001b[0m\u001b[37m\u001b[0m \u001b[1m0s\u001b[0m 5ms/step - loss: 0.0230 \n"
     ]
    },
    {
     "data": {
      "text/plain": [
       "<keras.src.callbacks.history.History at 0x7f214c729780>"
      ]
     },
     "execution_count": 211,
     "metadata": {},
     "output_type": "execute_result"
    }
   ],
   "source": [
    "from tensorflow.keras.models import Sequential\n",
    "from tensorflow.keras.layers import LSTM, Dense, Dropout\n",
    "\n",
    "# Define the model\n",
    "model = Sequential([\n",
    "    LSTM(64, return_sequences=True, input_shape=(timesteps, features)),  # LSTM layer\n",
    "    Dropout(0.2),\n",
    "    LSTM(32, return_sequences=False),  # LSTM layer\n",
    "    Dropout(0.2),\n",
    "    Dense(16, activation='relu'),  # Output layer (single label)\n",
    "    Dense(1, activation='linear')  # Output layer (single label)\n",
    "])\n",
    "\n",
    "# Compile the model\n",
    "model.compile(optimizer='adam', loss='mse')\n",
    "\n",
    "# Train the model\n",
    "model.fit(dataset, epochs=10)\n"
   ]
  },
  {
   "cell_type": "code",
   "execution_count": 144,
   "id": "b7e17f48-6bc8-43fc-9772-acf1b12d6654",
   "metadata": {},
   "outputs": [
    {
     "name": "stdout",
     "output_type": "stream",
     "text": [
      "1.0\n",
      "-1.0\n",
      "1.0\n",
      "-1.0\n"
     ]
    }
   ],
   "source": [
    "print(X_train_scaled.max())\n",
    "print(X_train_scaled.min())\n",
    "print(y_train_scaled.max())\n",
    "print(y_train_scaled.min())"
   ]
  },
  {
   "cell_type": "code",
   "execution_count": 157,
   "id": "7bcf2b00-7c2f-4b17-93f8-d865bba2b2e3",
   "metadata": {},
   "outputs": [
    {
     "name": "stdout",
     "output_type": "stream",
     "text": [
      "1.0\n",
      "-1.0\n",
      "0.9999999999999999\n",
      "-1.0\n",
      "-0.16495684914177558\n",
      "0.9580860129431384\n"
     ]
    }
   ],
   "source": [
    "print(X_test_scaled.max())\n",
    "print(X_test_scaled.min())\n",
    "print(y_test_scaled.max())\n",
    "print(y_test_scaled.min())\n",
    "print(X_test_scaled.mean())\n",
    "print(y_test_scaled.mean())"
   ]
  },
  {
   "cell_type": "code",
   "execution_count": 212,
   "id": "7059b084-5b8d-4501-b04c-f14f37a52c23",
   "metadata": {},
   "outputs": [
    {
     "name": "stdout",
     "output_type": "stream",
     "text": [
      "Test loss: 0.06362614035606384\n"
     ]
    }
   ],
   "source": [
    "test_loss = model.evaluate(X_test_scaled, y_test_scaled, verbose=0)\n",
    "# model.predict()\n",
    "print(f\"Test loss: {test_loss}\")"
   ]
  },
  {
   "cell_type": "code",
   "execution_count": 213,
   "id": "1383044b-6f8b-498b-8548-dd37332dd739",
   "metadata": {},
   "outputs": [
    {
     "name": "stdout",
     "output_type": "stream",
     "text": [
      "\u001b[1m10/10\u001b[0m \u001b[32m━━━━━━━━━━━━━━━━━━━━\u001b[0m\u001b[37m\u001b[0m \u001b[1m0s\u001b[0m 8ms/step \n",
      "\u001b[1m10/10\u001b[0m \u001b[32m━━━━━━━━━━━━━━━━━━━━\u001b[0m\u001b[37m\u001b[0m \u001b[1m0s\u001b[0m 2ms/step \n"
     ]
    }
   ],
   "source": [
    "predictions_val = model.predict(X_val_scaled)\n",
    "predictions_test = model.predict(X_test_scaled)"
   ]
  },
  {
   "cell_type": "code",
   "execution_count": 215,
   "id": "6295103d-6661-4a4e-a50b-0a692b3e682b",
   "metadata": {},
   "outputs": [
    {
     "data": {
      "text/plain": [
       "0.024220508"
      ]
     },
     "execution_count": 215,
     "metadata": {},
     "output_type": "execute_result"
    }
   ],
   "source": [
    "predictions_val_temp = y_val_scaler.inverse_transform(predictions_val.reshape(-1, 1))\n",
    "predictions_val_temp[0:10]\n",
    "predictions_val_temp.max()"
   ]
  },
  {
   "cell_type": "code",
   "execution_count": 216,
   "id": "0185b29f-0a74-499d-9d76-6a1418c82d19",
   "metadata": {},
   "outputs": [
    {
     "name": "stdout",
     "output_type": "stream",
     "text": [
      "Example Validation Predictions (Unscaled): [0.02238466 0.02224154 0.0224884  0.02216315 0.02286197]\n",
      "Example Test Predictions (Unscaled): [0.01395194 0.01444861 0.01357278 0.01346184 0.01370613]\n"
     ]
    }
   ],
   "source": [
    "predictions_val_unscaled = y_val_scaler.inverse_transform(predictions_val)\n",
    "predictions_test_unscaled = y_test_scaler.inverse_transform(predictions_test)\n",
    "y_val_unscaled = y_val_scaler.inverse_transform(y_val_scaled.reshape(-1, 1)).reshape(y_val_scaled.shape)\n",
    "y_test_unscaled = y_test_scaler.inverse_transform(y_test_scaled.reshape(-1, 1)).reshape(y_test_scaled.shape)\n",
    "\n",
    "print(f\"Example Validation Predictions (Unscaled):\", predictions_val_unscaled[:5].flatten())\n",
    "print(f\"Example Test Predictions (Unscaled):\", predictions_test_unscaled[:5].flatten())"
   ]
  },
  {
   "cell_type": "code",
   "execution_count": null,
   "id": "24edee21-4bb7-4ba9-a255-8d4ee9c03a49",
   "metadata": {},
   "outputs": [],
   "source": []
  }
 ],
 "metadata": {
  "kernelspec": {
   "display_name": "Python 3 (ipykernel)",
   "language": "python",
   "name": "python3"
  },
  "language_info": {
   "codemirror_mode": {
    "name": "ipython",
    "version": 3
   },
   "file_extension": ".py",
   "mimetype": "text/x-python",
   "name": "python",
   "nbconvert_exporter": "python",
   "pygments_lexer": "ipython3",
   "version": "3.10.15"
  }
 },
 "nbformat": 4,
 "nbformat_minor": 5
}
